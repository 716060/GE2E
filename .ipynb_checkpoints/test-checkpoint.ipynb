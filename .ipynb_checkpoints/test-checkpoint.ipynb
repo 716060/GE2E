{
 "cells": [
  {
   "cell_type": "code",
   "execution_count": 1,
   "metadata": {},
   "outputs": [],
   "source": [
    "def split_audio(x,sr=22050,seg_length=0.8,pad=False):\n",
    "    l = x.shape[0]/sr\n",
    "    L = int(l/seg_length)\n",
    "    audio_list = []\n",
    "    for i in range(L-1):\n",
    "        audio_list.append(x[int(i*seg_length*sr):int((i+2)*seg_length*sr)])\n",
    "    return audio_list\n",
    "    "
   ]
  },
  {
   "cell_type": "code",
   "execution_count": 2,
   "metadata": {},
   "outputs": [],
   "source": [
    "def get_split_mels(splited_audios,sr=22050,n_fft=512,win_length=100,hop_length=128,mel=40):\n",
    "    log_mels = []\n",
    "    for audio in splited_audios:\n",
    "        S=librosa.core.stft(y=audio, n_fft=n_fft,win_length=win_length, hop_length=hop_length)\n",
    "        S = np.abs(S) ** 2\n",
    "        mel_basis = librosa.filters.mel(sr=sr, n_fft=n_fft, n_mels=40)\n",
    "        S = np.log10(np.dot(mel_basis, S) + 1e-6)\n",
    "        log_mels.append(S)\n",
    "    return log_mels"
   ]
  },
  {
   "cell_type": "code",
   "execution_count": null,
   "metadata": {},
   "outputs": [],
   "source": []
  }
 ],
 "metadata": {
  "kernelspec": {
   "display_name": "Python 3",
   "language": "python",
   "name": "python3"
  },
  "language_info": {
   "codemirror_mode": {
    "name": "ipython",
    "version": 3
   },
   "file_extension": ".py",
   "mimetype": "text/x-python",
   "name": "python",
   "nbconvert_exporter": "python",
   "pygments_lexer": "ipython3",
   "version": "3.5.4"
  }
 },
 "nbformat": 4,
 "nbformat_minor": 1
}
